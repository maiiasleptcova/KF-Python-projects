{
 "cells": [
  {
   "cell_type": "code",
   "execution_count": null,
   "id": "negative-grill",
   "metadata": {},
   "outputs": [],
   "source": [
    "#### Load the libraries \n",
    "\n",
    "import os\n",
    "import numpy as np\n",
    "import pandas as pd\n",
    "from IPython.core.interactiveshell import InteractiveShell\n",
    "InteractiveShell.ast_node_interactivity = \"all\"\n",
    "\n",
    "pd.set_option(\"display.max_rows\", None, \"display.max_columns\", None)"
   ]
  },
  {
   "cell_type": "markdown",
   "id": "secure-sandwich",
   "metadata": {
    "tags": [],
    "toc-hr-collapsed": true
   },
   "source": [
    "## Oxford Economics data"
   ]
  },
  {
   "cell_type": "markdown",
   "id": "urban-suspect",
   "metadata": {},
   "source": [
    "File downloaded from Oxford Economics on 17th of June 2021\n",
    "Last data Update date is 30th of April 2021"
   ]
  },
  {
   "cell_type": "markdown",
   "id": "differential-minority",
   "metadata": {},
   "source": [
    "#### Load the file with GVA and Employment"
   ]
  },
  {
   "cell_type": "code",
   "execution_count": null,
   "id": "prompt-treat",
   "metadata": {},
   "outputs": [],
   "source": [
    "df = pd.read_excel('F:\\\\Research\\\\CommercialPrivate\\\\Central London\\\\DATA\\\\FORECASTS\\\\2021\\\\Q2 2021\\\\Greater London GVA and Employment - 17 June 2021 10_48_24.xlsx', 'Default')"
   ]
  },
  {
   "cell_type": "markdown",
   "id": "arbitrary-space",
   "metadata": {},
   "source": [
    "#### Look at the data"
   ]
  },
  {
   "cell_type": "code",
   "execution_count": null,
   "id": "regular-battle",
   "metadata": {},
   "outputs": [],
   "source": [
    "df.head()"
   ]
  },
  {
   "cell_type": "code",
   "execution_count": null,
   "id": "premium-nelson",
   "metadata": {},
   "outputs": [],
   "source": [
    "df.dtypes"
   ]
  },
  {
   "cell_type": "code",
   "execution_count": null,
   "id": "distinct-bargain",
   "metadata": {},
   "outputs": [],
   "source": [
    "list(df)"
   ]
  },
  {
   "cell_type": "markdown",
   "id": "bored-injection",
   "metadata": {},
   "source": [
    "#### Reshape data"
   ]
  },
  {
   "cell_type": "code",
   "execution_count": null,
   "id": "toxic-medium",
   "metadata": {},
   "outputs": [],
   "source": [
    "## Reshape 1: Turn years columns into one\n",
    "\n",
    "df = pd.melt(df, id_vars=('Location',\n",
    " 'Indicator',\n",
    " 'Sector',\n",
    " 'Units',\n",
    " 'Scale',\n",
    " 'Measurement',\n",
    " 'Source',\n",
    " 'Seasonally adjusted',\n",
    " 'Base year price',\n",
    " 'Base year index',\n",
    " 'Historical end',\n",
    " 'Date of last update',\n",
    " 'Source details',\n",
    " 'Additional source details',\n",
    " 'Contact email',\n",
    " 'Location code',\n",
    " 'Indicator code')\n",
    "  , var_name=\"year\", value_name=\"value\" )"
   ]
  },
  {
   "cell_type": "code",
   "execution_count": null,
   "id": "patent-crazy",
   "metadata": {},
   "outputs": [],
   "source": [
    "#df"
   ]
  },
  {
   "cell_type": "code",
   "execution_count": null,
   "id": "engaging-compiler",
   "metadata": {},
   "outputs": [],
   "source": [
    "## Reshape 2: Make sectors as columns\n",
    "## a lot of columns will have to go so that reshape is efficient\n",
    "# reset index gets rid of the multilevel structure\n",
    "\n",
    "df = pd.pivot_table(df, values='value', index=['Location',\n",
    " 'Indicator',\n",
    " 'Units',\n",
    " 'Scale',\n",
    " 'Measurement',\n",
    " 'year'],\n",
    "columns=['Sector']).reset_index()\n",
    "\n"
   ]
  },
  {
   "cell_type": "code",
   "execution_count": null,
   "id": "single-aerospace",
   "metadata": {},
   "outputs": [],
   "source": [
    "#df"
   ]
  },
  {
   "cell_type": "code",
   "execution_count": null,
   "id": "ordinary-elevation",
   "metadata": {},
   "outputs": [],
   "source": [
    "list(df)"
   ]
  },
  {
   "cell_type": "code",
   "execution_count": null,
   "id": "restricted-trustee",
   "metadata": {},
   "outputs": [],
   "source": [
    "df[\"Aggr2\"] = df['Real estate activities'] + df['Financial and insurance'] +  df['Professional, scientific and tech'] + df['Information and communication'] + df['Administrative and support']"
   ]
  },
  {
   "cell_type": "code",
   "execution_count": null,
   "id": "atmospheric-plane",
   "metadata": {},
   "outputs": [],
   "source": [
    "df[\"Aggr3\"] = df[\"Aggr2\"] + df['Public administration and defence']  + df['Education']   "
   ]
  },
  {
   "cell_type": "code",
   "execution_count": null,
   "id": "computational-mambo",
   "metadata": {},
   "outputs": [],
   "source": [
    "df[\"Aggr1\"] = df[\"Aggr2\"] - df['Information and communication'] "
   ]
  },
  {
   "cell_type": "code",
   "execution_count": null,
   "id": "concrete-length",
   "metadata": {},
   "outputs": [],
   "source": [
    "list(df)"
   ]
  },
  {
   "cell_type": "code",
   "execution_count": null,
   "id": "helpful-leadership",
   "metadata": {},
   "outputs": [],
   "source": [
    "df_aggr = df.iloc[:, [0,1,2,3,4,5, 10, 11, 15, 16, 17]]"
   ]
  },
  {
   "cell_type": "code",
   "execution_count": null,
   "id": "advance-municipality",
   "metadata": {},
   "outputs": [],
   "source": [
    "#df_aggr"
   ]
  },
  {
   "cell_type": "code",
   "execution_count": null,
   "id": "joint-referral",
   "metadata": {},
   "outputs": [],
   "source": [
    "# looks like 'Office aggregate (incl. ICT)' is the same as Aggr2 \n",
    "# and 'Office aggregate (excl. ICT)' is the same as Aggr1\n",
    "# re-create df_aggr w/t these columns\n",
    "df_aggr = df.iloc[:, [0,1,2,3,4,5, 15, 16, 17]]"
   ]
  },
  {
   "cell_type": "code",
   "execution_count": null,
   "id": "monthly-sixth",
   "metadata": {},
   "outputs": [],
   "source": [
    "#df_aggr\n",
    "## Aggr 1 - excluding ICT\n",
    "## Aggr 2 - including ICT\n",
    "## Aggr 3 - including Public admistration and defence & Education"
   ]
  },
  {
   "cell_type": "code",
   "execution_count": null,
   "id": "associate-hotel",
   "metadata": {},
   "outputs": [],
   "source": [
    "list(df_aggr)"
   ]
  },
  {
   "cell_type": "code",
   "execution_count": null,
   "id": "provincial-freight",
   "metadata": {},
   "outputs": [],
   "source": [
    "## Reshape 3: Turn Aggr columns into one\n",
    "\n",
    "df_aggr = pd.melt(df_aggr, id_vars=('Location',\n",
    " 'Indicator',\n",
    " 'Units',\n",
    " 'Scale',\n",
    " 'Measurement',\n",
    " 'year')\n",
    "  , var_name=\"Aggr_version\", value_name=\"value\" )"
   ]
  },
  {
   "cell_type": "code",
   "execution_count": null,
   "id": "infrared-islam",
   "metadata": {},
   "outputs": [],
   "source": [
    "# create future column names\n",
    "\n",
    "df_aggr[\"Aggr_version\"]  = df_aggr['Aggr_version'].str[-1:]\n",
    "df_aggr[\"Indic_group\"] = np.where(df_aggr['Indicator'] == \"GVA by Sector\", \"GVA\"+ df_aggr[\"Aggr_version\"], \"Employment\"+ df_aggr[\"Aggr_version\"]) \n"
   ]
  },
  {
   "cell_type": "code",
   "execution_count": null,
   "id": "closed-relation",
   "metadata": {},
   "outputs": [],
   "source": [
    "# Final Reshape\n",
    "## Reshape 4: Turn Aggregate Indicators into columns\n",
    "\n",
    "df_aggr = df_aggr.pivot_table( values='value', \n",
    "index=['year'],\n",
    "columns=['Indic_group']).reset_index()\n"
   ]
  },
  {
   "cell_type": "code",
   "execution_count": null,
   "id": "spare-yellow",
   "metadata": {},
   "outputs": [],
   "source": [
    "df_aggr['year'] = df_aggr['year'].astype(int)"
   ]
  },
  {
   "cell_type": "code",
   "execution_count": null,
   "id": "native-acoustic",
   "metadata": {},
   "outputs": [],
   "source": [
    "#df_aggr"
   ]
  },
  {
   "cell_type": "markdown",
   "id": "animal-stevens",
   "metadata": {},
   "source": [
    "#### Load the GDP Deflator file"
   ]
  },
  {
   "cell_type": "code",
   "execution_count": null,
   "id": "precise-lover",
   "metadata": {},
   "outputs": [],
   "source": [
    "defl = pd.read_excel('F:\\\\Research\\\\CommercialPrivate\\\\Central London\\\\DATA\\\\FORECASTS\\\\2021\\\\Q2 2021\\\\GDP deflator - 21 June 2021 11_11_10.xlsx', 'Default')"
   ]
  },
  {
   "cell_type": "code",
   "execution_count": null,
   "id": "broad-greek",
   "metadata": {},
   "outputs": [],
   "source": [
    "# only keep relevant columns and rows\n",
    "defl = defl[['Year','Level values']]\n",
    "defl = defl[defl['Level values'] != \"Level values\"]"
   ]
  },
  {
   "cell_type": "code",
   "execution_count": null,
   "id": "promotional-trader",
   "metadata": {},
   "outputs": [],
   "source": [
    "# rename columns\n",
    "defl=defl.rename(columns = {'Level values':'GDP deflator', 'Year':'year'})"
   ]
  },
  {
   "cell_type": "code",
   "execution_count": null,
   "id": "periodic-bradford",
   "metadata": {},
   "outputs": [],
   "source": [
    "#defl"
   ]
  },
  {
   "cell_type": "markdown",
   "id": "perceived-annual",
   "metadata": {
    "tags": [],
    "toc-hr-collapsed": true
   },
   "source": [
    "## PMA data"
   ]
  },
  {
   "cell_type": "markdown",
   "id": "subtle-pakistan",
   "metadata": {},
   "source": [
    "File obtained from PMA on 7th of June 2021. The data we are using is Prime rent and Stock series"
   ]
  },
  {
   "cell_type": "markdown",
   "id": "vanilla-sperm",
   "metadata": {},
   "source": [
    "#### Load the data on Prime Rents and Stock"
   ]
  },
  {
   "cell_type": "code",
   "execution_count": null,
   "id": "white-clearance",
   "metadata": {},
   "outputs": [],
   "source": [
    "rent = pd.read_excel('F:\\\\Research\\\\CommercialPrivate\\\\Central London\\\\DATA\\\\FORECASTS\\\\2021\\\\Q2 2021\\\\Central London fundamentals Jun 2021 - PMA.xls', 'PRIME RENTS - GBP PSF PA', skiprows = 9)"
   ]
  },
  {
   "cell_type": "code",
   "execution_count": null,
   "id": "integrated-champagne",
   "metadata": {},
   "outputs": [],
   "source": [
    "stock = pd.read_excel('F:\\\\Research\\\\CommercialPrivate\\\\Central London\\\\DATA\\\\FORECASTS\\\\2021\\\\Q2 2021\\\\Central London fundamentals Jun 2021 - PMA.xls', 'STOCK', skiprows = 9)"
   ]
  },
  {
   "cell_type": "markdown",
   "id": "brief-tampa",
   "metadata": {},
   "source": [
    "#### Look at the data"
   ]
  },
  {
   "cell_type": "code",
   "execution_count": null,
   "id": "educated-bibliography",
   "metadata": {},
   "outputs": [],
   "source": [
    "stock.head()"
   ]
  },
  {
   "cell_type": "code",
   "execution_count": null,
   "id": "experienced-employee",
   "metadata": {},
   "outputs": [],
   "source": [
    "pma = rent.append(stock, ignore_index=True)"
   ]
  },
  {
   "cell_type": "code",
   "execution_count": null,
   "id": "realistic-overhead",
   "metadata": {},
   "outputs": [],
   "source": [
    "list(pma)"
   ]
  },
  {
   "cell_type": "markdown",
   "id": "certain-sending",
   "metadata": {},
   "source": [
    "#### Reshape data"
   ]
  },
  {
   "cell_type": "code",
   "execution_count": null,
   "id": "vietnamese-momentum",
   "metadata": {},
   "outputs": [],
   "source": [
    "# Reshape 1: Turn years into 1 column\n",
    "\n",
    "pma = pd.melt(pma, id_vars=('Market: Submarket','Country', 'Description',)\n",
    "  , var_name=\"year\", value_name=\"value\" )"
   ]
  },
  {
   "cell_type": "code",
   "execution_count": null,
   "id": "solved-horror",
   "metadata": {},
   "outputs": [],
   "source": [
    "# Remove London from the submarket name\n",
    "pma['Market: Submarket'] = pma['Market: Submarket'].str.split(': ').str[1]\n",
    "\n",
    "# rename Submarket column\n",
    "pma=pma.rename(columns = {'Market: Submarket':'Submarket'})"
   ]
  },
  {
   "cell_type": "code",
   "execution_count": null,
   "id": "described-founder",
   "metadata": {},
   "outputs": [],
   "source": [
    "# Reshape 2: Turn Prime rent and Stock into columns\n",
    "\n",
    "pma = pma.pivot_table(values='value', index=['year', 'Submarket'], columns=['Description']).reset_index()"
   ]
  },
  {
   "cell_type": "code",
   "execution_count": null,
   "id": "rotary-cheese",
   "metadata": {},
   "outputs": [],
   "source": [
    "# rename Submarket column\n",
    "pma=pma.rename(columns = {'Prime Rents (GBP, psf, pa)':'prime_rent', 'Stock (000s, sqft)':'stock' })"
   ]
  },
  {
   "cell_type": "code",
   "execution_count": null,
   "id": "compatible-console",
   "metadata": {},
   "outputs": [],
   "source": [
    "pma = pma.sort_values(by=['Submarket', 'year'])"
   ]
  },
  {
   "cell_type": "markdown",
   "id": "sunrise-format",
   "metadata": {
    "tags": [],
    "toc-hr-collapsed": true
   },
   "source": [
    "## KF data"
   ]
  },
  {
   "cell_type": "markdown",
   "id": "basic-domain",
   "metadata": {},
   "source": [
    "KF data we use is developemnt pipeline data - to forecast the stock"
   ]
  },
  {
   "cell_type": "markdown",
   "id": "supported-child",
   "metadata": {},
   "source": [
    "#### Load the data on Dev Pipeline"
   ]
  },
  {
   "cell_type": "code",
   "execution_count": null,
   "id": "devoted-poetry",
   "metadata": {},
   "outputs": [],
   "source": [
    "dev_pipe = pd.read_excel('F:\\\\Research\\\\CommercialPrivate\\\\Central London\\\\DATA\\\\FORECASTS\\\\2021\\\\Q2 2021\\\\London Development Pipeline Review and Viability Index - Landsec Additions.xlsx', 'London Dev. Pipeline', skiprows = [0,2,3])"
   ]
  },
  {
   "cell_type": "code",
   "execution_count": null,
   "id": "italic-approach",
   "metadata": {},
   "outputs": [],
   "source": [
    "#dev_pipe"
   ]
  },
  {
   "cell_type": "markdown",
   "id": "postal-disease",
   "metadata": {},
   "source": [
    "#### Slicing and aggregating the data"
   ]
  },
  {
   "cell_type": "markdown",
   "id": "beneficial-claim",
   "metadata": {},
   "source": [
    "Slicing and aggregating the data to get the total pipeline values for City and West End submarkets"
   ]
  },
  {
   "cell_type": "code",
   "execution_count": null,
   "id": "needed-munich",
   "metadata": {},
   "outputs": [],
   "source": [
    "# drop the first empty column\n",
    "dev_pipe = dev_pipe.drop('Unnamed: 0', 1)"
   ]
  },
  {
   "cell_type": "code",
   "execution_count": null,
   "id": "meaning-exhaust",
   "metadata": {},
   "outputs": [],
   "source": [
    "list(dev_pipe)"
   ]
  },
  {
   "cell_type": "code",
   "execution_count": null,
   "id": "least-commons",
   "metadata": {},
   "outputs": [],
   "source": [
    "# filter data - only keep records with high certainty (Overall 9 and 10)\n",
    "# only keep records that will complete from 2021 onwards\n",
    "dev_pipe = dev_pipe[(dev_pipe[\"Overall\"]==9) | (dev_pipe[\"Overall\"]==10)]\n",
    "dev_pipe = dev_pipe[dev_pipe[\"Earliest Possible PC Year\"]>2020]"
   ]
  },
  {
   "cell_type": "code",
   "execution_count": null,
   "id": "welcome-switzerland",
   "metadata": {},
   "outputs": [],
   "source": [
    "# Select the records that are City in PMA definition - EC1, EC2, EC3, EC4 postcodes\n",
    "dev_pipe[\"New_subm\"] = np.where(dev_pipe['Address'].str.contains(\"EC1|EC2|EC3|EC4\"),\"City\",dev_pipe[\"Submarket\"]) "
   ]
  },
  {
   "cell_type": "code",
   "execution_count": null,
   "id": "dependent-spanking",
   "metadata": {},
   "outputs": [],
   "source": [
    "# creating West End from West End Core, Fitzrovia, Soho, Victoria and Marylebone\n",
    "dev_pipe[\"New_subm\"] = np.where( ((dev_pipe['New_subm'] == \"Victoria\") | (dev_pipe['New_subm'] == \"Soho\") | (dev_pipe['New_subm'] == \"Fitzrovia\") | (dev_pipe['New_subm'] == \"Marylebone\") | (dev_pipe['New_subm'] == \"West End Core\")), \"West End\", dev_pipe[\"New_subm\"] ) "
   ]
  },
  {
   "cell_type": "code",
   "execution_count": null,
   "id": "neural-requirement",
   "metadata": {},
   "outputs": [],
   "source": [
    "# only keep relevant columns\n",
    "dev_pipe = dev_pipe[['New_subm','Total Development Size','Earliest Possible PC Year']]"
   ]
  },
  {
   "cell_type": "code",
   "execution_count": null,
   "id": "bronze-translator",
   "metadata": {},
   "outputs": [],
   "source": [
    "# rename columns - Year and Submarket\n",
    "dev_pipe=dev_pipe.rename(columns = {'Earliest Possible PC Year':'year', 'New_subm':'Submarket'})"
   ]
  },
  {
   "cell_type": "code",
   "execution_count": null,
   "id": "refined-blake",
   "metadata": {},
   "outputs": [],
   "source": [
    "# sum by submarket and year\n",
    "dev_pipe = dev_pipe.groupby(['Submarket','year'])['Total Development Size'].sum().reset_index()"
   ]
  },
  {
   "cell_type": "code",
   "execution_count": null,
   "id": "legitimate-scott",
   "metadata": {},
   "outputs": [],
   "source": [
    "# keep only City and West End \n",
    "dev_pipe = dev_pipe[(dev_pipe['Submarket'] == \"City\") | (dev_pipe['Submarket'] == \"West End\") ]"
   ]
  },
  {
   "cell_type": "code",
   "execution_count": null,
   "id": "naval-emerald",
   "metadata": {},
   "outputs": [],
   "source": [
    "#dev_pipe"
   ]
  },
  {
   "cell_type": "markdown",
   "id": "bright-nowhere",
   "metadata": {
    "tags": []
   },
   "source": [
    "## CoStar data"
   ]
  },
  {
   "cell_type": "code",
   "execution_count": null,
   "id": "applicable-preliminary",
   "metadata": {},
   "outputs": [],
   "source": [
    "cstar_city = pd.read_excel('F:\\\\Research\\\\CommercialPrivate\\\\Central London\\\\DATA\\\\FORECASTS\\\\2021\\\\Q2 2021\\\\CoStar Stock and Vacancy City - 22 June 2021.xlsx', 'DataExport')\n",
    "cstar_westend = pd.read_excel('F:\\\\Research\\\\CommercialPrivate\\\\Central London\\\\DATA\\\\FORECASTS\\\\2021\\\\Q2 2021\\\\CoStar Stock and Vacancy West End - 22 June 2021.xlsx', 'DataExport')"
   ]
  },
  {
   "cell_type": "code",
   "execution_count": null,
   "id": "genetic-honolulu",
   "metadata": {},
   "outputs": [],
   "source": [
    "cstar_city['Submarket'] = 'City'\n",
    "cstar_westend['Submarket'] = 'West End'"
   ]
  },
  {
   "cell_type": "code",
   "execution_count": null,
   "id": "velvet-germany",
   "metadata": {},
   "outputs": [],
   "source": [
    "# append the datasets\n",
    "costar = cstar_city.append(cstar_westend, ignore_index=True)\n",
    "costar['year'] = costar['Period'].str[0:4].astype(int)\n",
    "costar['stock_growth'] = costar.groupby(['Submarket'])['Inventory SF'].pct_change()\n",
    "costar = costar[['year', 'Submarket' ,'stock_growth', 'Vacancy Rate']]\n",
    "#product_df.groupby('prod_desc')['prod_count'].pct_change()"
   ]
  },
  {
   "cell_type": "code",
   "execution_count": null,
   "id": "animated-period",
   "metadata": {},
   "outputs": [],
   "source": [
    "costar"
   ]
  },
  {
   "cell_type": "markdown",
   "id": "intended-maple",
   "metadata": {
    "tags": []
   },
   "source": [
    "## Merging the datasets"
   ]
  },
  {
   "cell_type": "code",
   "execution_count": null,
   "id": "destroyed-monthly",
   "metadata": {},
   "outputs": [],
   "source": [
    "# merge PMA Rent and Stock Data and GDP deflator\n",
    "pma_and_defl  = pd.merge(pma, defl, on='year', how = 'right') # this will create empty rows"
   ]
  },
  {
   "cell_type": "code",
   "execution_count": null,
   "id": "driven-wheel",
   "metadata": {},
   "outputs": [],
   "source": [
    "pma_and_defl[\"Submarket\"] = np.where(pma_and_defl['year']>2020,\"City\",pma_and_defl[\"Submarket\"])  # replace existing empty rows with City"
   ]
  },
  {
   "cell_type": "code",
   "execution_count": null,
   "id": "catholic-kelly",
   "metadata": {},
   "outputs": [],
   "source": [
    "# create duplicate rows and replace for West End\n",
    "dupl = pma_and_defl.iloc[82:88].copy()\n",
    "dupl.columns = pma_and_defl.columns\n",
    "dupl[\"Submarket\"] = \"West End\"\n",
    "#print(dupl)"
   ]
  },
  {
   "cell_type": "code",
   "execution_count": null,
   "id": "historical-connection",
   "metadata": {},
   "outputs": [],
   "source": [
    "# append to the original\n",
    "pma_and_defl = pma_and_defl.append(dupl, ignore_index=True)\n",
    "#pma_and_defl"
   ]
  },
  {
   "cell_type": "code",
   "execution_count": null,
   "id": "popular-cabin",
   "metadata": {},
   "outputs": [],
   "source": [
    "# add OE data on Employment and GVA\n",
    "pma_and_defl_and_OE =  pd.merge(pma_and_defl, df_aggr, on='year')"
   ]
  },
  {
   "cell_type": "code",
   "execution_count": null,
   "id": "tropical-plant",
   "metadata": {},
   "outputs": [],
   "source": [
    "# add Dev Pipeline\n",
    "pma_and_defl_and_OE_and_devpipe =  pd.merge(pma_and_defl_and_OE, dev_pipe, on=['year', 'Submarket'], how = 'left')"
   ]
  },
  {
   "cell_type": "code",
   "execution_count": null,
   "id": "encouraging-interstate",
   "metadata": {},
   "outputs": [],
   "source": [
    "#pma_and_defl_and_OE_and_devpipe"
   ]
  },
  {
   "cell_type": "markdown",
   "id": "infrared-biography",
   "metadata": {},
   "source": [
    "## Creating forecast for stock"
   ]
  },
  {
   "cell_type": "code",
   "execution_count": null,
   "id": "naked-season",
   "metadata": {},
   "outputs": [],
   "source": [
    "final =  pma_and_defl_and_OE_and_devpipe.copy()"
   ]
  },
  {
   "cell_type": "code",
   "execution_count": null,
   "id": "circular-student",
   "metadata": {},
   "outputs": [],
   "source": [
    "# Add demolitions column based on PMA's advice - 1200 for West End and 1300 for City\n",
    "final['Demolitions'] = 1200\n",
    "final['Demolitions'] = np.where(final['Submarket'] =='City',1300,final['Demolitions']) \n",
    "final['Demolitions'] = np.where(final['year'] <2021 ,0,final['Demolitions'] ) "
   ]
  },
  {
   "cell_type": "code",
   "execution_count": null,
   "id": "actual-european",
   "metadata": {},
   "outputs": [],
   "source": [
    "# divide the Development number by 1000 so that all stock is in the same units\n",
    "# replace NAs with zeros so that the summing works\n",
    "\n",
    "final['Total Development Size'] = final['Total Development Size']/1000\n",
    "final['Total Development Size'] = final['Total Development Size'].fillna(0)"
   ]
  },
  {
   "cell_type": "code",
   "execution_count": null,
   "id": "digital-syracuse",
   "metadata": {},
   "outputs": [],
   "source": [
    "# create Stock forecast\n",
    "final = final.sort_values(by=['Submarket', 'year'])"
   ]
  },
  {
   "cell_type": "code",
   "execution_count": null,
   "id": "structured-creativity",
   "metadata": {},
   "outputs": [],
   "source": [
    "final['stock'] = final.groupby(['Submarket'])['stock'].fillna(method='ffill') #fill stock values forward\n",
    "final['Cum_Demol'] = final.groupby(['Submarket'])['Demolitions'].cumsum() # create running total of Demolitions\n",
    "final['Cum_Devel'] = final.groupby(['Submarket'])['Total Development Size'].cumsum() # create running total of Developments"
   ]
  },
  {
   "cell_type": "code",
   "execution_count": null,
   "id": "studied-dairy",
   "metadata": {},
   "outputs": [],
   "source": [
    "# calculate future stock\n",
    "final['stock'] = np.where(final['year'] >2020,final['stock']+final['Cum_Devel']-final['Cum_Demol'],final['stock'] ) \n",
    "#final"
   ]
  },
  {
   "cell_type": "code",
   "execution_count": null,
   "id": "enhanced-clock",
   "metadata": {},
   "outputs": [],
   "source": [
    "# add CoStar stock growth and vacancy\n",
    "final =  pd.merge(final, costar, on=['year', 'Submarket'], how = 'left')\n",
    "#final"
   ]
  },
  {
   "cell_type": "code",
   "execution_count": null,
   "id": "liberal-notice",
   "metadata": {},
   "outputs": [],
   "source": [
    "# keep only relevant columns"
   ]
  },
  {
   "cell_type": "code",
   "execution_count": null,
   "id": "pretty-assistant",
   "metadata": {},
   "outputs": [],
   "source": [
    "final = final.drop(['Cum_Devel', 'Cum_Demol'], axis=1)\n",
    "final"
   ]
  },
  {
   "cell_type": "code",
   "execution_count": null,
   "id": "radical-surface",
   "metadata": {},
   "outputs": [],
   "source": []
  }
 ],
 "metadata": {
  "kernelspec": {
   "display_name": "Python 3",
   "language": "python",
   "name": "python3"
  },
  "language_info": {
   "codemirror_mode": {
    "name": "ipython",
    "version": 3
   },
   "file_extension": ".py",
   "mimetype": "text/x-python",
   "name": "python",
   "nbconvert_exporter": "python",
   "pygments_lexer": "ipython3",
   "version": "3.9.0"
  },
  "toc-autonumbering": false
 },
 "nbformat": 4,
 "nbformat_minor": 5
}
